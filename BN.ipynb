{
 "cells": [
  {
   "cell_type": "code",
   "execution_count": 17,
   "metadata": {},
   "outputs": [
    {
     "name": "stdout",
     "output_type": "stream",
     "text": [
      "Iteration 1: loglike=-5.621998e+01 (0.003 seconds)\n",
      "Iteration 2: loglike=-5.461073e+01 (0.002 seconds)\n",
      "Iteration 3: loglike=-5.460839e+01 (0.002 seconds)\n",
      "Iteration 4: loglike=-5.460837e+01 (0.002 seconds)\n",
      "Converged at iteration 4.\n"
     ]
    },
    {
     "data": {
      "image/png": "[encoded data removed]",
      "text/plain": [
       "<matplotlib.figure.Figure at 0x2d30ec38438>"
      ]
     },
     "metadata": {},
     "output_type": "display_data"
    }
   ],
   "source": [
    "#Trial\n",
    "import numpy as np\n",
    "#generate artifical data\n",
    "data = np.random.normal (5, 10, size =(10,))\n",
    "from bayespy.nodes import GaussianARD, Gamma\n",
    "#GaussianARD and Gamma are distribution of mu and tau\n",
    "mu = GaussianARD (0, 1e-6)\n",
    "tau = Gamma (1e-6, 1e-6)\n",
    "y = GaussianARD (mu, tau, plates =(10,))\n",
    "y.observe (data)\n",
    "#estimate posterior distribution\n",
    "#applicable engines (MCMC, EP, VB) VB = variational Bayesian\n",
    "from bayespy.inference import VB\n",
    "Q = VB (mu, tau, y)\n",
    "Q.update (repeat=20)\n",
    "import bayespy.plot as bpplt\n",
    "bpplt.pyplot.subplot (2,1,1)\n",
    "bpplt.pdf (mu, np.linspace(-10, 20, num= 100), color = 'k', name = r'\\mu')\n",
    "bpplt.pyplot.subplot (2,1,2)\n",
    "bpplt.pdf(tau, np.linspace(1e-6, 0.08, num=100), color='k', name=r'\\tau')\n",
    "bpplt.pyplot.tight_layout()\n",
    "bpplt.pyplot.show()"
   ]
  },
  {
   "cell_type": "code",
   "execution_count": 28,
   "metadata": {},
   "outputs": [],
   "source": [
    "import csv\n",
    "with open('acpy.csv') as csvfile:\n",
    "    readCSV = csv.reader(csvfile, delimiter=',')\n",
    "#    for row in readCSV:\n",
    "        #print(row)\n",
    "        #print(row[0])\n",
    "        #print(row[0],row[1],row[2],)"
   ]
  },
  {
   "cell_type": "code",
   "execution_count": null,
   "metadata": {},
   "outputs": [],
   "source": [
    "#categorical distribution\n",
    "from bayespy import nodes\n",
    "import numpy as np"
   ]
  },
  {
   "cell_type": "code",
   "execution_count": null,
   "metadata": {},
   "outputs": [],
   "source": []
  },
  {
   "cell_type": "code",
   "execution_count": null,
   "metadata": {},
   "outputs": [],
   "source": []
  },
  {
   "cell_type": "code",
   "execution_count": null,
   "metadata": {
    "collapsed": true
   },
   "outputs": [],
   "source": []
  }
 ],
 "metadata": {
  "kernelspec": {
   "display_name": "Python 3",
   "language": "python",
   "name": "python3"
  },
  "language_info": {
   "codemirror_mode": {
    "name": "ipython",
    "version": 3
   },
   "file_extension": ".py",
   "mimetype": "text/x-python",
   "name": "python",
   "nbconvert_exporter": "python",
   "pygments_lexer": "ipython3",
   "version": "3.6.3"
  }
 },
 "nbformat": 4,
 "nbformat_minor": 2
}
